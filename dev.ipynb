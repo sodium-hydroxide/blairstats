{
 "cells": [
  {
   "cell_type": "code",
   "execution_count": 64,
   "metadata": {},
   "outputs": [],
   "source": [
    "import numpy as np\n",
    "import matplotlib as mpl\n",
    "mpl.rcParams[\"figure.dpi\"] = 600\n"
   ]
  },
  {
   "cell_type": "code",
   "execution_count": 66,
   "metadata": {},
   "outputs": [],
   "source": [
    "def test_curve(x: ArrayFloat, a1:float, a2: float, a3: float):\n",
    "    return (\n",
    "        a3\n",
    "        + (a2* x)\n",
    "        + (a1 * (x ** 2))\n",
    "    )\n",
    "test_data = (pd.DataFrame({\n",
    "    \"exog\": np.repeat(np.linspace(-5, 5, 20), 20) + 0.4*np.random.randn(400)})\n",
    "             .assign(\n",
    "                 endog = lambda df: (test_curve(df[\"exog\"], 2.1, -0.5, 10.0)\n",
    "                                     + np.random.randn(400))\n",
    "             )\n",
    ")"
   ]
  }
 ],
 "metadata": {
  "kernelspec": {
   "display_name": ".venv",
   "language": "python",
   "name": "python3"
  },
  "language_info": {
   "codemirror_mode": {
    "name": "ipython",
    "version": 3
   },
   "file_extension": ".py",
   "mimetype": "text/x-python",
   "name": "python",
   "nbconvert_exporter": "python",
   "pygments_lexer": "ipython3",
   "version": "3.12.4"
  }
 },
 "nbformat": 4,
 "nbformat_minor": 2
}
